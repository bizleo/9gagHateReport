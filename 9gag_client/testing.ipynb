{
 "cells": [
  {
   "cell_type": "code",
   "execution_count": 33,
   "metadata": {},
   "outputs": [],
   "source": [
    "from client import NineGagAPIClient"
   ]
  },
  {
   "cell_type": "code",
   "execution_count": null,
   "metadata": {},
   "outputs": [],
   "source": [
    "import requests\n",
    "\n",
    "url = \"https://9gag.com/v1/feed-posts/type/home\"\n",
    "headers = {\n",
    "    \"User-Agent\": \"Mozilla/5.0 (Windows NT 10.0; Win64; x64) AppleWebKit/537.36 (KHTML, like Gecko) Chrome/117.0.0.0 Safari/537.36\",\n",
    "    \"Accept\": \"application/json, text/javascript, */*; q=0.01\",\n",
    "    \"Referer\": \"https://9gag.com/\",\n",
    "    \"Accept-Language\": \"en-US,en;q=0.9\",\n",
    "    \"Connection\": \"keep-alive\",\n",
    "    \"Cookie\": \"____ri=6854; ____lo=DE; sign_up_referer=https%3A%2F%2F9gag.com%2F; ts1=9f9ecd24c7dd0e753be3d450d0c381f6ae9fab00; OptanonConsent=isGpcEnabled=0&datestamp=Tue+Jan+07+2025+16%3A04%3A54+GMT%2B0100+(Central+European+Standard+Time)&version=202408.1.0&browserGpcFlag=0&isIABGlobal=false&hosts=&consentId=d6bd00d0-d975-41a3-8a52-149f70856088&interactionCount=0&isAnonUser=1&landingPath=NotLandingPage&groups=C0004%3A1%2CC0002%3A1%2CC0003%3A1%2CC0001%3A1&AwaitingReconsent=false&geolocation=%3B; OptanonAlertBoxClosed=2025-01-07T15:04:54.894Z\"\n",
    "}\n",
    "response = requests.get(url, headers=headers)\n",
    "print(response.text)  # Inspect the content\n",
    "\n",
    "if response.status_code != 200:\n",
    "    print(\"Failed to fetch data:\", response.status_code)\n",
    "\n",
    "print(response.json())  # Inspect the structure"
   ]
  },
  {
   "cell_type": "code",
   "execution_count": 12,
   "metadata": {},
   "outputs": [],
   "source": [
    "import json\n",
    "import pandas as pd\n",
    "import cloudscraper\n",
    "from datetime import datetime\n",
    "\n",
    "def page_statistic_df():\n",
    "    # Create a CloudScraper instance\n",
    "    scraper = cloudscraper.create_scraper()\n",
    "    url_9gag = \"https://9gag.com/v1/feed-posts/type/home\"\n",
    "    response = scraper.get(url=url_9gag)\n",
    "    response_json = json.loads(response.text)\n",
    "\n",
    "    keys_to_keep = ['id', 'title', 'description', 'type', 'nsfw', 'upVoteCount', 'downVoteCount', 'creationTs' ]\n",
    "    all_filtered_data = []\n",
    "    for data_per_post in response_json[\"data\"][\"posts\"]:\n",
    "        filtered_data = {key: data_per_post[key] for key in keys_to_keep}\n",
    "        all_filtered_data.append(filtered_data)\n",
    "\n",
    "    # Convert to a DataFrame\n",
    "    df = pd.DataFrame(all_filtered_data)\n",
    "    df['creationTs'] = pd.to_datetime(df['creationTs'], unit='s')\n",
    "    return df"
   ]
  },
  {
   "cell_type": "code",
   "execution_count": 13,
   "metadata": {},
   "outputs": [],
   "source": [
    "some = page_statistic_df()"
   ]
  },
  {
   "cell_type": "code",
   "execution_count": null,
   "metadata": {},
   "outputs": [],
   "source": [
    "import cloudscraper\n",
    "import pandas as pd\n",
    "\n",
    "def fetch_comments(post_id, count=10, sort_type=\"hot\", next_token=None):\n",
    "    \"\"\"\n",
    "    Fetch comments from a 9GAG post using the observed API.\n",
    "    \n",
    "    :param post_id: The ID of the 9GAG post (e.g., 'aLnngEz').\n",
    "    :param count: Number of comments to fetch per request (default 10).\n",
    "    :param sort_type: Sorting type ('hot', 'fresh', etc.).\n",
    "    :param next_token: Token for pagination (default None).\n",
    "    :return: List of comments with relevant information.\n",
    "    \"\"\"\n",
    "    scraper = cloudscraper.create_scraper()\n",
    "    base_url = \"https://comment-cdn.9gag.com/v2/cacheable/comment-list.json\"\n",
    "\n",
    "    # Query parameters\n",
    "    params = {\n",
    "        \"appId\": \"a_dd8f2b7d304a10edaf6f29517ea0ca4100a43d1b\",\n",
    "        \"count\": count,\n",
    "        \"type\": sort_type,\n",
    "        \"url\": f\"http://9gag.com/gag/{post_id}\",\n",
    "        \"origin\": \"https://9gag.com\",\n",
    "    }\n",
    "    if next_token:\n",
    "        params[\"next\"] = next_token\n",
    "\n",
    "    # Make the request\n",
    "    response = scraper.get(base_url, params=params)\n",
    "\n",
    "    if response.status_code == 200:\n",
    "        data = response.json()\n",
    "        payload = data.get(\"payload\", [])\n",
    "        comments = payload.get(\"comments\", [])\n",
    "        next_token = payload.get(\"next\")\n",
    "        print(data)\n",
    "        # Extract relevant data\n",
    "        comment_list = [\n",
    "            {\n",
    "                \"comment_id\": comment.get(\"commentId\"),\n",
    "                \"text\": comment.get(\"text\"),\n",
    "                \"timestamp\": comment.get(\"timestamp\"),\n",
    "            }\n",
    "            for comment in comments if comment.get('type')  == 'text'\n",
    "        ]\n",
    "        df = pd.DataFrame(comment_list)\n",
    "        df['timestamp'] = pd.to_datetime(df['timestamp'], unit='s')\n",
    "        return df, next_token\n",
    "    else:\n",
    "        print(f\"Error {response.status_code}: {response.text}\")\n",
    "        return [], None\n",
    "\n",
    "# Example Usage\n",
    "post_id = \"aLnngEz\"  # Replace with the actual post ID\n",
    "df, next_token = fetch_comments(post_id)\n",
    "\n"
   ]
  },
  {
   "cell_type": "code",
   "execution_count": 48,
   "metadata": {},
   "outputs": [],
   "source": [
    "import cloudscraper\n",
    "import pandas as pd\n",
    "\n",
    "def fetch_comments1(post_id, count=10, sort_type=\"hot\", next_token=None):\n",
    "    \"\"\"\n",
    "    Fetch comments from a 9GAG post using the observed API.\n",
    "    \n",
    "    :param post_id: The ID of the 9GAG post (e.g., 'aLnngEz').\n",
    "    :param count: Number of comments to fetch per request (default 10).\n",
    "    :param sort_type: Sorting type ('hot', 'fresh', etc.).\n",
    "    :param next_token: Token for pagination (default None).\n",
    "    :return: DataFrame of comments and the next pagination token.\n",
    "    \"\"\"\n",
    "    scraper = cloudscraper.create_scraper()\n",
    "    base_url = \"https://comment-cdn.9gag.com/v2/cacheable/comment-list.json\"\n",
    "\n",
    "    # Query parameters\n",
    "    params = {\n",
    "        \"appId\": \"a_dd8f2b7d304a10edaf6f29517ea0ca4100a43d1b\",\n",
    "        \"count\": count,\n",
    "        \"type\": sort_type,\n",
    "        \"url\": f\"http://9gag.com/gag/{post_id}\",\n",
    "        \"origin\": \"https://9gag.com\",\n",
    "    }\n",
    "    if next_token:\n",
    "        params[\"next\"] = next_token  # Include the next_token for pagination\n",
    "\n",
    "    # Make the request\n",
    "    response = scraper.get(base_url, params=params)\n",
    "\n",
    "    if response.status_code == 200:\n",
    "        data = response.json()\n",
    "        payload = data.get(\"payload\", {})\n",
    "        comments = payload.get(\"comments\", [])\n",
    "        next_token = payload.get(\"next\")  # Retrieve the next token for pagination\n",
    "\n",
    "        # Extract relevant data\n",
    "        comment_list = [\n",
    "            {\n",
    "                \"comment_id\": comment.get(\"commentId\"),\n",
    "                \"text\": comment.get(\"text\"),\n",
    "                \"timestamp\": comment.get(\"timestamp\"),\n",
    "            }\n",
    "            for comment in comments if comment.get(\"type\") == \"text\"\n",
    "        ]\n",
    "\n",
    "        # Create a DataFrame and format the timestamp\n",
    "        df = pd.DataFrame(comment_list)\n",
    "        if not df.empty:\n",
    "            df[\"timestamp\"] = pd.to_datetime(df[\"timestamp\"], unit=\"s\")\n",
    "        return df, next_token\n",
    "    else:\n",
    "        print(f\"Error {response.status_code}: {response.text}\")\n",
    "        return pd.DataFrame(), None\n",
    "\n",
    "# Fetch all comments with pagination\n",
    "def fetch_all_comments(post_id, count=10, sort_type=\"hot\"):\n",
    "    \"\"\"\n",
    "    Fetch all comments for a given 9GAG post, handling pagination.\n",
    "    \n",
    "    :param post_id: The ID of the 9GAG post.\n",
    "    :param count: Number of comments per request.\n",
    "    :param sort_type: Sorting type for comments.\n",
    "    :return: DataFrame of all comments.\n",
    "    \"\"\"\n",
    "    all_comments = pd.DataFrame()\n",
    "    next_token = None\n",
    "\n",
    "    while True:\n",
    "        df, next_token = fetch_comments(post_id, count, sort_type, next_token)\n",
    "        all_comments = pd.concat([all_comments, df], ignore_index=True)\n",
    "\n",
    "        if not next_token:  # No more pages\n",
    "            break\n",
    "\n",
    "    return all_comments\n",
    "\n"
   ]
  },
  {
   "cell_type": "code",
   "execution_count": 51,
   "metadata": {},
   "outputs": [],
   "source": [
    "post_id = \"aLnngEz\"  # Replace with the actual post ID\n",
    "\n",
    "df, next_token = fetch_comments1(post_id)"
   ]
  },
  {
   "cell_type": "code",
   "execution_count": null,
   "metadata": {},
   "outputs": [],
   "source": [
    "next_token"
   ]
  },
  {
   "cell_type": "code",
   "execution_count": 53,
   "metadata": {},
   "outputs": [],
   "source": [
    "df1, next_token1 = fetch_comments1(post_id,next_token=next_token)"
   ]
  },
  {
   "cell_type": "code",
   "execution_count": null,
   "metadata": {},
   "outputs": [],
   "source": [
    "next_token1"
   ]
  },
  {
   "cell_type": "code",
   "execution_count": null,
   "metadata": {},
   "outputs": [],
   "source": [
    "df"
   ]
  },
  {
   "cell_type": "code",
   "execution_count": null,
   "metadata": {},
   "outputs": [],
   "source": [
    "df1"
   ]
  },
  {
   "cell_type": "code",
   "execution_count": null,
   "metadata": {},
   "outputs": [],
   "source": []
  }
 ],
 "metadata": {
  "kernelspec": {
   "display_name": "pybiz",
   "language": "python",
   "name": "python3"
  },
  "language_info": {
   "codemirror_mode": {
    "name": "ipython",
    "version": 3
   },
   "file_extension": ".py",
   "mimetype": "text/x-python",
   "name": "python",
   "nbconvert_exporter": "python",
   "pygments_lexer": "ipython3",
   "version": "3.10.15"
  }
 },
 "nbformat": 4,
 "nbformat_minor": 2
}
